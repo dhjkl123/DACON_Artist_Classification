{
  "cells": [
    {
      "cell_type": "code", 
      "execution_count": null,
      "metadata": {
        "colab": {
          "base_uri": "https://localhost:8080/"
        },
        "id": "6TucfoqeuvfG",
        "outputId": "2b86c7d1-5e95-4685-8578-7aac4f6351ad"
      },
      "outputs": [
        {
          "name": "stdout",
          "output_type": "stream",
          "text": [
            "Mounted at /content/drive\n"
          ]
        }
      ],
      "source": [
        "# drive mount\n",
        "from google.colab import drive\n",
        "drive.mount('/content/drive')"
      ]
    },
    {
      "cell_type": "code",
      "execution_count": null,
      "metadata": {
        "id": "0CmQVTitkyta"
      },
      "outputs": [],
      "source": [
        "import numpy as np\n",
        "import pandas as pd\n",
        "from sklearn import preprocessing"
      ]
    },
    {
      "cell_type": "code",
      "execution_count": null,
      "metadata": {
        "id": "fEOxzpAJuEGO"
      },
      "outputs": [],
      "source": [
        "CFG = {\n",
        "    'IMG_SIZE' : 224,\n",
        "    'IMG_SIZE_H': 220,\n",
        "    'IMG_SIZE_W': 275,\n",
        "    'EPOCHS': 100,\n",
        "    'LEARNING_RATE': 3e-4,\n",
        "    'BATCH_SIZE': 32,\n",
        "    'SEED': 41,\n",
        "    'PATIENCE' : 5\n",
        "}"
      ]
    },
    {
      "cell_type": "code",
      "execution_count": null,
      "metadata": {
        "id": "FKbXR0dmzl9x"
      },
      "outputs": [],
      "source": [
        "# 이번 대회에서는 F1 score를 사용\n",
        "from sklearn.metrics import f1_score\n",
        "def competition_metric(true, pred):\n",
        "    return f1_score(true, pred, average=\"macro\")"
      ]
    },
    {
      "cell_type": "code",
      "execution_count": null,
      "metadata": {
        "id": "HLcWyWSHuGli"
      },
      "outputs": [],
      "source": [
        "train = pd.read_csv('/content/drive/MyDrive/Colab Notebooks/Artist_classification/data/train.csv')\n",
        "\n",
        "def img_path_change(img_path):\n",
        "  return '/content/drive/MyDrive/Colab Notebooks/Artist_classification/data' + str(img_path)[1:]\n",
        "\n",
        "train['img_path'] = train['img_path'].apply(img_path_change)\n",
        "le = preprocessing.LabelEncoder()\n",
        "train['artist'] = le.fit_transform(train['artist'].values)"
      ]
    },
    {
      "cell_type": "code",
      "execution_count": null,
      "metadata": {
        "id": "FAHA87RPshUQ"
      },
      "outputs": [],
      "source": [
        "pred_swin = np.load('/content/drive/MyDrive/Colab Notebooks/Artist_classification/pred/pred_swin.npy')\n",
        "pred_h = np.load('/content/drive/MyDrive/Colab Notebooks/Artist_classification/pred/pred_multimodal_h.npy')\n",
        "pred_v = np.load('/content/drive/MyDrive/Colab Notebooks/Artist_classification/pred/pred_multimodal_v.npy')\n",
        "pred_genre = np.load('/content/drive/MyDrive/Colab Notebooks/Artist_classification/pred/pred_genre.npy')\n",
        "pred_color_hist = np.load('/content/drive/MyDrive/Colab Notebooks/Artist_classification/pred/pred_multimodal_color_hist.npy')\n",
        "pred_gray_hist = np.load('/content/drive/MyDrive/Colab Notebooks/Artist_classification/pred/pred_multimodal_gray_hist.npy')\n",
        "pred_f = np.load('/content/drive/MyDrive/Colab Notebooks/Artist_classification/pred/pred_multimodal_f.npy')"
      ]
    },
    {
      "cell_type": "code",
      "execution_count": null,
      "metadata": {
        "colab": {
          "base_uri": "https://localhost:8080/"
        },
        "id": "IvNtIJWDshXW",
        "outputId": "d43a9cc7-10dd-465e-8983-45085809e4fd"
      },
      "outputs": [
        {
          "data": {
            "text/plain": [
              "(12670, 50)"
            ]
          },
          "execution_count": 64,
          "metadata": {},
          "output_type": "execute_result"
        }
      ],
      "source": [
        "# Ensemble\n",
        "pred_esemble = pred_swin + pred_h + pred_v + pred_genre + pred_color_hist + pred_gray_hist + pred_f\n",
        "pred_esemble.shape"
      ]
    },
    {
      "cell_type": "code",
      "execution_count": null,
      "metadata": {
        "id": "ocsTFMe2rGa4"
      },
      "outputs": [],
      "source": [
        "preds = np.argmax(pred_esemble, axis=1)\n",
        "preds = le.inverse_transform(preds) # LabelEncoder로 변환 된 Label을 다시 화가이름으로 변환"
      ]
    },
    {
      "cell_type": "code",
      "execution_count": null,
      "metadata": {
        "colab": {
          "base_uri": "https://localhost:8080/"
        },
        "id": "Jei0RQ7Kps1o",
        "outputId": "2a97098e-e8e7-490a-ae5d-9ff6b2005ffc"
      },
      "outputs": [
        {
          "data": {
            "text/plain": [
              "array(['Edgar Degas', 'Amedeo Modigliani', 'Caravaggio', ...,\n",
              "       'Amedeo Modigliani', 'Titian', 'Vincent van Gogh'], dtype=object)"
            ]
          },
          "execution_count": 66,
          "metadata": {},
          "output_type": "execute_result"
        }
      ],
      "source": [
        "preds"
      ]
    },
    {
      "cell_type": "code",
      "execution_count": null,
      "metadata": {
        "id": "sBdKrp6bkrKo"
      },
      "outputs": [],
      "source": [
        "submit = pd.read_csv('/content/drive/MyDrive/Colab Notebooks/Artist_classification/data/sample_submission.csv')\n",
        "submit['artist'] = preds"
      ]
    },
    {
      "cell_type": "code",
      "execution_count": null,
      "metadata": {
        "id": "8_pkigu4ksPK"
      },
      "outputs": [],
      "source": [
        "submit.to_csv('/content/drive/MyDrive/Colab Notebooks/Artist_classification/ensemble.csv', index=False)"
      ]
    }
  ],
  "metadata": {
    "colab": {
      "machine_shape": "hm",
      "provenance": []
    },
    "gpuClass": "standard",
    "kernelspec": {
      "display_name": "Python 3.9.13 64-bit",
      "language": "python",
      "name": "python3"
    },
    "language_info": {
      "name": "python",
      "version": "3.9.13"
    },
    "vscode": {
      "interpreter": {
        "hash": "cf92aa13fedf815d5c8dd192b8d835913fde3e8bc926b2a0ad6cc74ef2ba3ca2"
      }
    }
  },
  "nbformat": 4,
  "nbformat_minor": 0
}
